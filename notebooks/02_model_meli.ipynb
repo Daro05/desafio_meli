{
 "cells": [
  {
   "cell_type": "markdown",
   "id": "c23ec5c2",
   "metadata": {},
   "source": [
    "<img src=\"https://thelogisticsworld.com/wp-content/uploads/2023/04/Mercado-Libre-2-1-828x548.jpg\" alt=\"Imagen MeLi\" width=\"30%\"/>\n"
   ]
  },
  {
   "cell_type": "markdown",
   "id": "4db4224c",
   "metadata": {},
   "source": [
    "# Data Science Challenge Model"
   ]
  },
  {
   "cell_type": "markdown",
   "id": "8ced5ddf",
   "metadata": {},
   "source": [
    "En esta segunda parte del challenge se pide realizar un modelo, creando features que nos permita predecir la columna **sold_quantity** que hace referencia al total de ventas históricas de cierto producto. "
   ]
  },
  {
   "cell_type": "markdown",
   "id": "7e88a50d",
   "metadata": {},
   "source": [
    "**Nota:** Dado que no se pudieron obtener los datos referente a la actualidad de México, estamos usando datos provisionales para poder hacer el ejercicio, estos datos son de mercado libre de Colombia y dado que estos datos no son actualizados, es decir, la creación de los items van desde 2014 a 2020, por ende estamos suponiendo que nos ubicamos en el tiempo el 22 de enero de 2021 para no meter ruido en los análisis temporales."
   ]
  },
  {
   "cell_type": "markdown",
   "id": "af5b122c",
   "metadata": {},
   "source": [
    "El objetivo inicial de este análisis es explorar y entender la distribución de las variables clave y preparar el dataset para un modelado más avanzado. Esta etapa es crucial para garantizar la calidad de los datos y proporcionar una base sólida para los análisis posteriores."
   ]
  },
  {
   "cell_type": "markdown",
   "id": "9846e7fa",
   "metadata": {},
   "source": [
    "El conjunto de datos tiene 271,082 observaciones con 26 columnas entre las variables principales disponibles tenemos:\n",
    "\n",
    "- **price**: Precio del producto.\n",
    "- **available_quantity**: Cantidad disponible del producto.\n",
    "- **sold_quantity**: Cantidad vendida (variable objetivo).\n",
    "- **buying_mode**: Modo de compra (e.g., \"buy_it_now\").\n",
    "- **listing_type_id**: Tipo de listado (e.g., \"gold_special\").\n",
    "- **condition**: Condición del producto (e.g., \"new\").\n",
    "- **accepts_mercadopago**: Si acepta MercadoPago.\n",
    "- **original_price**: Precio original (si difiere del precio actual).\n",
    "- **discount**: Descuento aplicado (si aplica).\n",
    "- **free_shipping**: Si el envío es gratuito.\n",
    "- **store_pickup**: Si está disponible la opción de recogida en tienda.\n",
    "- **number_of_tags**: Número de etiquetas asignadas al producto.\n",
    "- **is_official_store**: Si el producto proviene de una tienda oficial.\n",
    "- **month_update**: Mes en que se actualizó el producto.\n",
    "- **year_update**: Año en que se actualizó el producto.\n",
    "- **year_created**: Año en que se creó el producto.\n",
    "- **month_created**: Mes en que se creó el producto.\n",
    "- **total_questions**: Número de preguntas totales que han hecho sobre el producto.\n",
    "- **category_name**: Categoría del producto."
   ]
  },
  {
   "cell_type": "code",
   "execution_count": 1,
   "id": "a0b26487",
   "metadata": {},
   "outputs": [
    {
     "name": "stderr",
     "output_type": "stream",
     "text": [
      "/Users/danielrodriguez/opt/anaconda3/lib/python3.8/site-packages/scipy/__init__.py:146: UserWarning: A NumPy version >=1.16.5 and <1.23.0 is required for this version of SciPy (detected version 1.23.2\n",
      "  warnings.warn(f\"A NumPy version >={np_minversion} and <{np_maxversion}\"\n"
     ]
    }
   ],
   "source": [
    "import numpy as np\n",
    "import pandas as pd\n",
    "\n",
    "import matplotlib.pyplot as plt\n",
    "import matplotlib as mpl\n",
    "import seaborn as sns\n",
    "from adjustText import adjust_text\n",
    "\n",
    "\n",
    "from sklearn.model_selection import train_test_split\n",
    "\n",
    "from sklearn.ensemble import RandomForestRegressor\n",
    "from sklearn.linear_model import LinearRegression\n",
    "\n",
    "from sklearn.metrics import mean_squared_error, r2_score\n",
    "\n",
    "import warnings\n",
    "import os\n",
    "warnings.filterwarnings('ignore')\n",
    "pd.set_option('display.max_columns', None)"
   ]
  },
  {
   "cell_type": "markdown",
   "id": "4329040d",
   "metadata": {},
   "source": [
    "## Read Data"
   ]
  },
  {
   "cell_type": "code",
   "execution_count": 2,
   "id": "cd81c52b",
   "metadata": {},
   "outputs": [],
   "source": [
    "# Cargar el archivo CSV\n",
    "df = pd.read_csv('df_model_comb.csv')"
   ]
  },
  {
   "cell_type": "markdown",
   "id": "be1b7d88",
   "metadata": {},
   "source": [
    "## Análisis Exploratorio de datos"
   ]
  },
  {
   "cell_type": "markdown",
   "id": "8c1d1729",
   "metadata": {},
   "source": [
    "Queremos ver la estructura del conjunto de datos, su dimensión, valores nulos y tipo de datos"
   ]
  },
  {
   "cell_type": "code",
   "execution_count": 3,
   "id": "6e70bd18",
   "metadata": {},
   "outputs": [
    {
     "name": "stdout",
     "output_type": "stream",
     "text": [
      "<class 'pandas.core.frame.DataFrame'>\n",
      "RangeIndex: 271082 entries, 0 to 271081\n",
      "Data columns (total 26 columns):\n",
      " #   Column               Non-Null Count   Dtype  \n",
      "---  ------               --------------   -----  \n",
      " 0   id                   271082 non-null  object \n",
      " 1   title                271082 non-null  object \n",
      " 2   price                269707 non-null  float64\n",
      " 3   available_quantity   271082 non-null  int64  \n",
      " 4   sold_quantity        271082 non-null  int64  \n",
      " 5   buying_mode          271082 non-null  object \n",
      " 6   listing_type_id      271082 non-null  object \n",
      " 7   condition            268382 non-null  object \n",
      " 8   accepts_mercadopago  271082 non-null  bool   \n",
      " 9   original_price       8460 non-null    float64\n",
      " 10  category_id          271082 non-null  object \n",
      " 11  seller_level_id      244487 non-null  object \n",
      " 12  seller_powerseller   197241 non-null  object \n",
      " 13  positive_rating      269565 non-null  float64\n",
      " 14  negative_rating      269565 non-null  float64\n",
      " 15  neutral_rating       269565 non-null  float64\n",
      " 16  free_shipping        271082 non-null  bool   \n",
      " 17  store_pickup         271082 non-null  bool   \n",
      " 18  number_of_tags       271082 non-null  int64  \n",
      " 19  is_official_store    271082 non-null  bool   \n",
      " 20  month_update         271052 non-null  object \n",
      " 21  year_update          271052 non-null  object \n",
      " 22  year_created         201718 non-null  float64\n",
      " 23  month_created        201718 non-null  float64\n",
      " 24  total_questions      248238 non-null  float64\n",
      " 25  category_name        271082 non-null  object \n",
      "dtypes: bool(4), float64(8), int64(3), object(11)\n",
      "memory usage: 46.5+ MB\n"
     ]
    }
   ],
   "source": [
    "df.info()"
   ]
  },
  {
   "cell_type": "code",
   "execution_count": 4,
   "id": "960e86d4",
   "metadata": {},
   "outputs": [
    {
     "data": {
      "text/html": [
       "<div>\n",
       "<style scoped>\n",
       "    .dataframe tbody tr th:only-of-type {\n",
       "        vertical-align: middle;\n",
       "    }\n",
       "\n",
       "    .dataframe tbody tr th {\n",
       "        vertical-align: top;\n",
       "    }\n",
       "\n",
       "    .dataframe thead th {\n",
       "        text-align: right;\n",
       "    }\n",
       "</style>\n",
       "<table border=\"1\" class=\"dataframe\">\n",
       "  <thead>\n",
       "    <tr style=\"text-align: right;\">\n",
       "      <th></th>\n",
       "      <th>id</th>\n",
       "      <th>title</th>\n",
       "      <th>price</th>\n",
       "      <th>available_quantity</th>\n",
       "      <th>sold_quantity</th>\n",
       "      <th>buying_mode</th>\n",
       "      <th>listing_type_id</th>\n",
       "      <th>condition</th>\n",
       "      <th>accepts_mercadopago</th>\n",
       "      <th>original_price</th>\n",
       "      <th>category_id</th>\n",
       "      <th>seller_level_id</th>\n",
       "      <th>seller_powerseller</th>\n",
       "      <th>positive_rating</th>\n",
       "      <th>negative_rating</th>\n",
       "      <th>neutral_rating</th>\n",
       "      <th>free_shipping</th>\n",
       "      <th>store_pickup</th>\n",
       "      <th>number_of_tags</th>\n",
       "      <th>is_official_store</th>\n",
       "      <th>month_update</th>\n",
       "      <th>year_update</th>\n",
       "      <th>year_created</th>\n",
       "      <th>month_created</th>\n",
       "      <th>total_questions</th>\n",
       "      <th>category_name</th>\n",
       "    </tr>\n",
       "  </thead>\n",
       "  <tbody>\n",
       "    <tr>\n",
       "      <th>0</th>\n",
       "      <td>MCO507883685</td>\n",
       "      <td>Plumones Doble Punta Staedtler Twin-tip Pen, C...</td>\n",
       "      <td>47100.0</td>\n",
       "      <td>1</td>\n",
       "      <td>500</td>\n",
       "      <td>buy_it_now</td>\n",
       "      <td>gold_special</td>\n",
       "      <td>new</td>\n",
       "      <td>True</td>\n",
       "      <td>NaN</td>\n",
       "      <td>MCO172631</td>\n",
       "      <td>5_green</td>\n",
       "      <td>platinum</td>\n",
       "      <td>0.99</td>\n",
       "      <td>0.00</td>\n",
       "      <td>0.01</td>\n",
       "      <td>False</td>\n",
       "      <td>False</td>\n",
       "      <td>5</td>\n",
       "      <td>False</td>\n",
       "      <td>12</td>\n",
       "      <td>2020</td>\n",
       "      <td>2019.0</td>\n",
       "      <td>4.0</td>\n",
       "      <td>553.0</td>\n",
       "      <td>Arte, Papelería y Mercería</td>\n",
       "    </tr>\n",
       "    <tr>\n",
       "      <th>1</th>\n",
       "      <td>MCO513434416</td>\n",
       "      <td>Tablero Acrílico Blanco Borrable 120 X 80cm + ...</td>\n",
       "      <td>76900.0</td>\n",
       "      <td>500</td>\n",
       "      <td>500</td>\n",
       "      <td>buy_it_now</td>\n",
       "      <td>gold_pro</td>\n",
       "      <td>new</td>\n",
       "      <td>True</td>\n",
       "      <td>NaN</td>\n",
       "      <td>MCO168370</td>\n",
       "      <td>5_green</td>\n",
       "      <td>platinum</td>\n",
       "      <td>0.96</td>\n",
       "      <td>0.02</td>\n",
       "      <td>0.02</td>\n",
       "      <td>True</td>\n",
       "      <td>False</td>\n",
       "      <td>5</td>\n",
       "      <td>False</td>\n",
       "      <td>5</td>\n",
       "      <td>2019</td>\n",
       "      <td>2019.0</td>\n",
       "      <td>5.0</td>\n",
       "      <td>722.0</td>\n",
       "      <td>Arte, Papelería y Mercería</td>\n",
       "    </tr>\n",
       "    <tr>\n",
       "      <th>2</th>\n",
       "      <td>MCO570929580</td>\n",
       "      <td>Crayola Marcador Lavable Super Tips 100 Unidad...</td>\n",
       "      <td>120000.0</td>\n",
       "      <td>1</td>\n",
       "      <td>150</td>\n",
       "      <td>buy_it_now</td>\n",
       "      <td>gold_special</td>\n",
       "      <td>new</td>\n",
       "      <td>True</td>\n",
       "      <td>NaN</td>\n",
       "      <td>MCO172631</td>\n",
       "      <td>5_green</td>\n",
       "      <td>platinum</td>\n",
       "      <td>0.96</td>\n",
       "      <td>0.02</td>\n",
       "      <td>0.02</td>\n",
       "      <td>True</td>\n",
       "      <td>False</td>\n",
       "      <td>4</td>\n",
       "      <td>False</td>\n",
       "      <td>7</td>\n",
       "      <td>2020</td>\n",
       "      <td>2020.0</td>\n",
       "      <td>7.0</td>\n",
       "      <td>74.0</td>\n",
       "      <td>Arte, Papelería y Mercería</td>\n",
       "    </tr>\n",
       "    <tr>\n",
       "      <th>3</th>\n",
       "      <td>MCO499057490</td>\n",
       "      <td>Papel Fotográfico Adhesivo Brillante Autoadhes...</td>\n",
       "      <td>16800.0</td>\n",
       "      <td>1</td>\n",
       "      <td>500</td>\n",
       "      <td>buy_it_now</td>\n",
       "      <td>gold_pro</td>\n",
       "      <td>new</td>\n",
       "      <td>True</td>\n",
       "      <td>NaN</td>\n",
       "      <td>MCO416637</td>\n",
       "      <td>5_green</td>\n",
       "      <td>platinum</td>\n",
       "      <td>0.99</td>\n",
       "      <td>0.00</td>\n",
       "      <td>0.01</td>\n",
       "      <td>False</td>\n",
       "      <td>False</td>\n",
       "      <td>7</td>\n",
       "      <td>False</td>\n",
       "      <td>7</td>\n",
       "      <td>2020</td>\n",
       "      <td>2018.0</td>\n",
       "      <td>12.0</td>\n",
       "      <td>293.0</td>\n",
       "      <td>Arte, Papelería y Mercería</td>\n",
       "    </tr>\n",
       "    <tr>\n",
       "      <th>4</th>\n",
       "      <td>MCO539332669</td>\n",
       "      <td>Colores Prismacolor Junior Redondos Caja X48 P...</td>\n",
       "      <td>60900.0</td>\n",
       "      <td>50</td>\n",
       "      <td>200</td>\n",
       "      <td>buy_it_now</td>\n",
       "      <td>gold_special</td>\n",
       "      <td>new</td>\n",
       "      <td>True</td>\n",
       "      <td>NaN</td>\n",
       "      <td>MCO172626</td>\n",
       "      <td>5_green</td>\n",
       "      <td>platinum</td>\n",
       "      <td>0.95</td>\n",
       "      <td>0.03</td>\n",
       "      <td>0.02</td>\n",
       "      <td>False</td>\n",
       "      <td>False</td>\n",
       "      <td>6</td>\n",
       "      <td>True</td>\n",
       "      <td>9</td>\n",
       "      <td>2020</td>\n",
       "      <td>2019.0</td>\n",
       "      <td>11.0</td>\n",
       "      <td>28.0</td>\n",
       "      <td>Arte, Papelería y Mercería</td>\n",
       "    </tr>\n",
       "  </tbody>\n",
       "</table>\n",
       "</div>"
      ],
      "text/plain": [
       "             id                                              title     price  \\\n",
       "0  MCO507883685  Plumones Doble Punta Staedtler Twin-tip Pen, C...   47100.0   \n",
       "1  MCO513434416  Tablero Acrílico Blanco Borrable 120 X 80cm + ...   76900.0   \n",
       "2  MCO570929580  Crayola Marcador Lavable Super Tips 100 Unidad...  120000.0   \n",
       "3  MCO499057490  Papel Fotográfico Adhesivo Brillante Autoadhes...   16800.0   \n",
       "4  MCO539332669  Colores Prismacolor Junior Redondos Caja X48 P...   60900.0   \n",
       "\n",
       "   available_quantity  sold_quantity buying_mode listing_type_id condition  \\\n",
       "0                   1            500  buy_it_now    gold_special       new   \n",
       "1                 500            500  buy_it_now        gold_pro       new   \n",
       "2                   1            150  buy_it_now    gold_special       new   \n",
       "3                   1            500  buy_it_now        gold_pro       new   \n",
       "4                  50            200  buy_it_now    gold_special       new   \n",
       "\n",
       "   accepts_mercadopago  original_price category_id seller_level_id  \\\n",
       "0                 True             NaN   MCO172631         5_green   \n",
       "1                 True             NaN   MCO168370         5_green   \n",
       "2                 True             NaN   MCO172631         5_green   \n",
       "3                 True             NaN   MCO416637         5_green   \n",
       "4                 True             NaN   MCO172626         5_green   \n",
       "\n",
       "  seller_powerseller  positive_rating  negative_rating  neutral_rating  \\\n",
       "0           platinum             0.99             0.00            0.01   \n",
       "1           platinum             0.96             0.02            0.02   \n",
       "2           platinum             0.96             0.02            0.02   \n",
       "3           platinum             0.99             0.00            0.01   \n",
       "4           platinum             0.95             0.03            0.02   \n",
       "\n",
       "   free_shipping  store_pickup  number_of_tags  is_official_store  \\\n",
       "0          False         False               5              False   \n",
       "1           True         False               5              False   \n",
       "2           True         False               4              False   \n",
       "3          False         False               7              False   \n",
       "4          False         False               6               True   \n",
       "\n",
       "  month_update year_update  year_created  month_created  total_questions  \\\n",
       "0           12        2020        2019.0            4.0            553.0   \n",
       "1            5        2019        2019.0            5.0            722.0   \n",
       "2            7        2020        2020.0            7.0             74.0   \n",
       "3            7        2020        2018.0           12.0            293.0   \n",
       "4            9        2020        2019.0           11.0             28.0   \n",
       "\n",
       "                category_name  \n",
       "0  Arte, Papelería y Mercería  \n",
       "1  Arte, Papelería y Mercería  \n",
       "2  Arte, Papelería y Mercería  \n",
       "3  Arte, Papelería y Mercería  \n",
       "4  Arte, Papelería y Mercería  "
      ]
     },
     "execution_count": 4,
     "metadata": {},
     "output_type": "execute_result"
    }
   ],
   "source": [
    "df.head()"
   ]
  },
  {
   "cell_type": "markdown",
   "id": "81085e5d",
   "metadata": {},
   "source": [
    "El dataset contiene 271,082 registros y 26 columnas. Aquí hay algunas observaciones iniciales:\n",
    "\n",
    "Columnas Relevantes:\n",
    "\n",
    "- **id**: Identificador único de la publicación.\n",
    "- **title**: Título del producto.\n",
    "- **price**: Precio del producto.\n",
    "- **available_quantity**: Cantidad disponible de productos.\n",
    "- **sold_quantity**: La variable objetivo que queremos predecir (cantidad vendida).\n",
    "- **buying_mode**, **listing_type_id**, **condition**: Atributos relacionados con la publicación y las características del producto.\n",
    "- **accepts_mercadopago**, **free_shipping**, **store_pickup**, **is_official_store**: Atributos booleanos que podrían influir en las ventas.\n",
    "- **seller_level_id**, **seller_powerseller**, **positive_rating**, **negative_rating**, **neutral_rating**: Información relacionada con el vendedor.\n",
    "- **year_created**, **month_created**, **year_update**, **month_update**: Fechas relacionadas con la creación y actualización de la publicación.\n",
    "- **total_questions**: Cantidad de preguntas recibidas, lo cual podría ser un indicativo del interés en el producto.\n",
    "\n",
    "Valores Nulos:\n",
    "\n",
    "- Algunas columnas como **original_price**, **seller_level_id**, **year_created**, y **total_questions** tienen valores nulos que necesitarán tratamiento.\n",
    "\n",
    "Tipos de Datos:\n",
    "\n",
    "- Algunas columnas como **month_update** y **year_update** están en formato de texto y es posible que necesiten conversión a numérico para el modelado."
   ]
  },
  {
   "cell_type": "markdown",
   "id": "cb5e5cc7",
   "metadata": {},
   "source": [
    "## Preprocesamiento de datos "
   ]
  },
  {
   "cell_type": "code",
   "execution_count": 5,
   "id": "e4875d75",
   "metadata": {},
   "outputs": [],
   "source": [
    "# Limpieza de datos\n",
    "# 1. Tratar valores nulos\n",
    "\n",
    "# Remover columnas que tienen demasiados valores nulos o que no parecen ser relevantes\n",
    "df_cleaned = df.drop(columns=['original_price', 'seller_powerseller'])\n",
    "\n",
    "# Imputar valores nulos con estrategias básicas\n",
    "df_cleaned['seller_level_id'].fillna('unknown', inplace=True)\n",
    "df_cleaned['year_created'].fillna(df_cleaned['year_created'].median(), inplace=True)\n",
    "df_cleaned['month_created'].fillna(df_cleaned['month_created'].median(), inplace=True)\n",
    "df_cleaned['total_questions'].fillna(0, inplace=True)\n",
    "\n",
    "# 2. Conversión de tipos de datos\n",
    "\n",
    "# Convertir columnas relacionadas con fechas a tipo numérico\n",
    "df_cleaned['month_update'] = pd.to_numeric(df_cleaned['month_update'], errors='coerce')\n",
    "df_cleaned['year_update'] = pd.to_numeric(df_cleaned['year_update'], errors='coerce')\n",
    "\n",
    "# Verificar si aún quedan valores nulos\n",
    "null_values = df_cleaned.isnull().sum()\n",
    "\n",
    "# Análisis exploratorio de datos (EDA)\n",
    "# Descripción básica de las columnas numéricas\n",
    "description = df_cleaned.describe()\n",
    "\n"
   ]
  },
  {
   "cell_type": "markdown",
   "id": "6223376e",
   "metadata": {},
   "source": [
    "1. Limpieza de Datos:\n",
    "    - Se eliminaron las columnas con demasiados valores nulos o irrelevantes (original_price, seller_powerseller).\n",
    "    - Las columnas seller_level_id, year_created, month_created y total_questions fueron imputadas o corregidas para manejar los valores nulos.\n",
    "    - Las columnas relacionadas con fechas (month_update, year_update) se convirtieron a datos numéricos.\n",
    "    \n",
    "2. Valores Nulos Restantes:\n",
    "    - Aún hay algunos valores nulos en las columnas \n",
    "        - **price**, \n",
    "        - **condition**, \n",
    "        - **positive_rating**, \n",
    "        - **negative_rating**, \n",
    "        - **neutral_rating**, \n",
    "        - **month_update** y \n",
    "        - **year_update**. \n",
    "      \n",
    "      Estos valores deberán ser manejados dependiendo de cómo influencien el modelado.\n",
    "3. Descripción de Variables Numéricas:\n",
    "    - **price** tiene una alta desviación estándar, lo que indica la presencia de valores extremos.\n",
    "    - **sold_quantity** varía significativamente, con una gran cantidad de publicaciones con pocas ventas y algunas con un número muy alto de ventas.\n",
    "    \n"
   ]
  },
  {
   "cell_type": "code",
   "execution_count": 8,
   "id": "21ffd4a9",
   "metadata": {},
   "outputs": [
    {
     "data": {
      "text/plain": [
       "id                     0\n",
       "title                  0\n",
       "price                  0\n",
       "available_quantity     0\n",
       "sold_quantity          0\n",
       "buying_mode            0\n",
       "listing_type_id        0\n",
       "condition              0\n",
       "accepts_mercadopago    0\n",
       "category_id            0\n",
       "seller_level_id        0\n",
       "positive_rating        0\n",
       "negative_rating        0\n",
       "neutral_rating         0\n",
       "free_shipping          0\n",
       "store_pickup           0\n",
       "number_of_tags         0\n",
       "is_official_store      0\n",
       "month_update           0\n",
       "year_update            0\n",
       "year_created           0\n",
       "month_created          0\n",
       "total_questions        0\n",
       "category_name          0\n",
       "dtype: int64"
      ]
     },
     "execution_count": 8,
     "metadata": {},
     "output_type": "execute_result"
    }
   ],
   "source": [
    "# Imputación de valores nulos restantes\n",
    "\n",
    "# Imputar valores nulos en 'price' con la mediana\n",
    "df_cleaned['price'].fillna(df_cleaned['price'].median(), inplace=True)\n",
    "\n",
    "# Imputar valores nulos en 'condition' con el valor más frecuente\n",
    "df_cleaned['condition'].fillna(df_cleaned['condition'].mode()[0], inplace=True)\n",
    "\n",
    "# Imputar valores nulos en 'positive_rating', 'negative_rating', y 'neutral_rating' con la mediana\n",
    "df_cleaned['positive_rating'].fillna(df_cleaned['positive_rating'].median(), inplace=True)\n",
    "df_cleaned['negative_rating'].fillna(df_cleaned['negative_rating'].median(), inplace=True)\n",
    "df_cleaned['neutral_rating'].fillna(df_cleaned['neutral_rating'].median(), inplace=True)\n",
    "\n",
    "# Imputar valores nulos en 'month_update' y 'year_update' con la mediana\n",
    "df_cleaned['month_update'].fillna(df_cleaned['month_update'].median(), inplace=True)\n",
    "df_cleaned['year_update'].fillna(df_cleaned['year_update'].median(), inplace=True)\n",
    "\n",
    "# Verificar si quedan valores nulos\n",
    "null_values_after_imputation = df_cleaned.isnull().sum()\n",
    "\n",
    "null_values_after_imputation\n"
   ]
  },
  {
   "cell_type": "markdown",
   "id": "209fd8a1",
   "metadata": {},
   "source": [
    "Todos los valores nulos de las columnas restantes han sido imputados, ahora procederemos a crear un baseline model"
   ]
  },
  {
   "cell_type": "markdown",
   "id": "c291702b",
   "metadata": {},
   "source": [
    "## Creación y selección de mejores features "
   ]
  },
  {
   "cell_type": "markdown",
   "id": "b92d8a86",
   "metadata": {},
   "source": [
    "Dado que tenemos muchas variables, es posible que el entrenamiento del modelo sea tardado, para reducir el tiempo de entrenamiento, haremos un análisis para seleccionar las mejores features para el modelado.\n",
    "\n",
    "De inicio podemos considerar la creación de nuevas features que podrían captar mejor la relación entre las variables y la cantidad vendida (sold_quantity). \n",
    "\n",
    "Posibles features adicionales:\n",
    "- **Precio relativo**: Feature que represente el precio en relación al promedio de precios en la misma categoría (price_relative_to_category_avg).\n",
    "- **Ratio de ventas**: Crear un ratio entre **sold_quantity** y **available_quantity** (**sales_ratio**), que podría indicar la demanda relativa de un producto.\n",
    "- **Interacción entre variables**: Crear características de interacción como **price** * **positive_rating** o **available_quantity** * **free_shipping** para capturar efectos combinados entre variables.\n",
    "- **Tiempo desde la última actualización**: Crear una característica que represente el tiempo transcurrido desde la última actualización (**time_since_last_update**), calculado a partir de **year_update** y **month_update**.\n",
    "- **Edad de la publicación**: Crear una característica que mida la antigüedad de la publicación (**publication_age**), calculada a partir de **year_created** y **month_created**.\n",
    "- **Popularidad de la categoría**: Agregar una característica que represente la popularidad de la categoría, basada en el número total de ventas de productos en esa categoría.\n",
    "- **Interacción con preguntas**: Crear características adicionales relacionadas con las preguntas recibidas (**total_questions**), como el ratio de preguntas por venta.\n",
    "\n"
   ]
  },
  {
   "cell_type": "code",
   "execution_count": 9,
   "id": "01a0adfd",
   "metadata": {},
   "outputs": [],
   "source": [
    "# Crear nuevas características\n",
    "df_cleaned['price_relative_to_category_avg'] = df_cleaned.groupby('category_id')['price'].transform(lambda x: x / x.mean())\n",
    "df_cleaned['price_positive_rating'] = df_cleaned['price'] * df_cleaned['positive_rating']\n",
    "df_cleaned['time_since_last_update'] = (2021 - df_cleaned['year_update']) * 12 + (8 - df_cleaned['month_update'])\n",
    "df_cleaned['publication_age'] = (2021 - df_cleaned['year_created']) * 12 + (8 - df_cleaned['month_created'])\n",
    "df_cleaned['category_popularity'] = df_cleaned.groupby('category_id')['sold_quantity'].transform('sum')\n",
    "\n",
    "df_cleaned['log_price'] = np.log1p(df_cleaned['price'])\n",
    "df_cleaned['log_total_questions'] = np.log1p(df_cleaned['total_questions'])\n",
    "\n",
    "# Interacciones entre variables\n",
    "df_cleaned['price_quantity_interaction'] = df_cleaned['price'] * df_cleaned['available_quantity']\n",
    "df_cleaned['questions_tags_interaction'] = df_cleaned['total_questions'] * df_cleaned['number_of_tags']\n",
    "\n",
    "# Codificación de variables categóricas\n",
    "df_cleaned['condition_encoded'] = df_cleaned['condition'].factorize()[0]\n",
    "df_cleaned['listing_type_encoded'] = df_cleaned['listing_type_id'].factorize()[0]\n",
    "df_cleaned['buying_mode_encoded'] = df_cleaned['buying_mode'].factorize()[0]"
   ]
  },
  {
   "cell_type": "code",
   "execution_count": 10,
   "id": "b0d01cc3",
   "metadata": {},
   "outputs": [
    {
     "data": {
      "text/plain": [
       "sold_quantity                     1.000000\n",
       "questions_tags_interaction        0.521159\n",
       "total_questions                   0.479210\n",
       "log_total_questions               0.414336\n",
       "publication_age                   0.251341\n",
       "number_of_tags                    0.181302\n",
       "category_popularity               0.111771\n",
       "accepts_mercadopago               0.079903\n",
       "positive_rating                   0.077987\n",
       "available_quantity                0.039565\n",
       "time_since_last_update            0.029416\n",
       "negative_rating                   0.001304\n",
       "is_official_store                 0.000556\n",
       "store_pickup                     -0.002949\n",
       "price_positive_rating            -0.007235\n",
       "price_quantity_interaction       -0.009584\n",
       "neutral_rating                   -0.011438\n",
       "year_update                      -0.018481\n",
       "price                            -0.025762\n",
       "price_relative_to_category_avg   -0.032064\n",
       "month_update                     -0.040895\n",
       "listing_type_encoded             -0.043203\n",
       "free_shipping                    -0.044385\n",
       "buying_mode_encoded              -0.079903\n",
       "condition_encoded                -0.089254\n",
       "month_created                    -0.103368\n",
       "log_price                        -0.122877\n",
       "year_created                     -0.231914\n",
       "Name: sold_quantity, dtype: float64"
      ]
     },
     "execution_count": 10,
     "metadata": {},
     "output_type": "execute_result"
    }
   ],
   "source": [
    "# Calcular la matriz de correlación\n",
    "correlation_matrix = df_cleaned.corr()\n",
    "\n",
    "# Extraer las correlaciones de 'sold_quantity' con otras variables\n",
    "correlation_with_target = correlation_matrix['sold_quantity'].sort_values(ascending=False)\n",
    "\n",
    "# Mostrar las variables con mayor correlación con 'sold_quantity'\n",
    "correlation_with_target\n"
   ]
  },
  {
   "cell_type": "markdown",
   "id": "4d4577d6",
   "metadata": {},
   "source": [
    "- **sold_quantity** muestra una correlación positiva notable con **total_questions** (0.47), lo que sugiere que el interés del cliente (medido por preguntas) puede ser un fuerte predictor de ventas.\n",
    "- Hay una correlación negativa moderada entre **sold_quantity** y **year_created** (-0.23), lo que podría indicar que publicaciones más antiguas tienden a vender menos."
   ]
  },
  {
   "cell_type": "markdown",
   "id": "30549983",
   "metadata": {},
   "source": [
    "Veamos como es la distribución de sold_quantity"
   ]
  },
  {
   "cell_type": "code",
   "execution_count": 11,
   "id": "8548b5d7",
   "metadata": {},
   "outputs": [
    {
     "data": {
      "text/plain": [
       "[0, 1, 2, 3, 4, 5, 25, 50, 100, 150, 200, 250, 500, 5000]"
      ]
     },
     "execution_count": 11,
     "metadata": {},
     "output_type": "execute_result"
    }
   ],
   "source": [
    "sorted(df_cleaned.sold_quantity.unique())"
   ]
  },
  {
   "cell_type": "code",
   "execution_count": 12,
   "id": "e02e0c20",
   "metadata": {},
   "outputs": [
    {
     "data": {
      "text/plain": [
       "count    271082.000000\n",
       "mean         30.851964\n",
       "std         116.727801\n",
       "min           0.000000\n",
       "25%           1.000000\n",
       "50%           5.000000\n",
       "75%          25.000000\n",
       "max        5000.000000\n",
       "Name: sold_quantity, dtype: float64"
      ]
     },
     "execution_count": 12,
     "metadata": {},
     "output_type": "execute_result"
    }
   ],
   "source": [
    "df_cleaned.sold_quantity.describe()"
   ]
  },
  {
   "cell_type": "code",
   "execution_count": 13,
   "id": "6201be0e",
   "metadata": {},
   "outputs": [
    {
     "data": {
      "text/plain": [
       "5       79450\n",
       "0       51855\n",
       "1       28019\n",
       "25      27625\n",
       "50      20590\n",
       "2       16096\n",
       "3       11504\n",
       "4        9616\n",
       "100      8706\n",
       "250      5892\n",
       "150      4597\n",
       "500      4119\n",
       "200      2926\n",
       "5000       87\n",
       "Name: sold_quantity, dtype: int64"
      ]
     },
     "execution_count": 13,
     "metadata": {},
     "output_type": "execute_result"
    }
   ],
   "source": [
    "df_cleaned.sold_quantity.value_counts()"
   ]
  },
  {
   "cell_type": "markdown",
   "id": "5d1ee765",
   "metadata": {},
   "source": [
    "Con base en la distribución de la variable sold_quantity, observamos que los valores están altamente concentrados en ciertas clases, especialmente en las cantidades bajas (5, 0, 1, 25, etc.), mientras que los valores más altos (5000, 500, 250) son mucho menos frecuentes.\n",
    "\n",
    "Análisis de la Distribución:\n",
    "Clases Dominantes:\n",
    "Los valores más comunes son 5, 0, 1, 25, 50, que abarcan una gran parte del total. Estas clases representan eventos de ventas más frecuentes.\n",
    "Clases Raras:\n",
    "Valores como 5000 y 500 son extremadamente raros, con solo 87 y 4119 instancias, respectivamente. Estos valores representan eventos de ventas excepcionales."
   ]
  },
  {
   "cell_type": "markdown",
   "id": "39a46b88",
   "metadata": {},
   "source": [
    "Dado que la variable objetivo (sold_quantity) tiene un conjunto de valores discretos, que incluyen tanto valores pequeños como valores muy grandes, puedes considerar varios enfoques alternativos para predecirla como la clasificacion multiclase que en lugar de tratar el problema como una regresión, podrías abordarlo como un problema de clasificación donde cada valor posible de sold_quantity es una clase diferente. Este enfoque parece más adecuado dado el carácter discreto y la distribución desigual de los valores. Usaremos un modelo de clasificación con técnicas para manejar el desbalance de clases, como Random Forest o XGBoost, puede ofrecer buenos resultados.\n"
   ]
  },
  {
   "cell_type": "code",
   "execution_count": 14,
   "id": "200aedde",
   "metadata": {},
   "outputs": [
    {
     "name": "stdout",
     "output_type": "stream",
     "text": [
      "Classification Report:\n",
      "              precision    recall  f1-score   support\n",
      "\n",
      "           0       0.85      0.86      0.85     10422\n",
      "           1       0.48      0.50      0.49      5539\n",
      "           2       0.25      0.14      0.18      3280\n",
      "           3       0.24      0.09      0.13      2349\n",
      "           4       0.27      0.08      0.12      1976\n",
      "           5       0.58      0.82      0.68     15687\n",
      "          25       0.45      0.31      0.37      5487\n",
      "          50       0.42      0.46      0.44      4153\n",
      "         100       0.44      0.27      0.34      1784\n",
      "         150       0.50      0.23      0.31       893\n",
      "         200       0.60      0.22      0.32       612\n",
      "         250       0.42      0.50      0.46      1176\n",
      "         500       0.67      0.71      0.69       843\n",
      "        5000       0.89      0.50      0.64        16\n",
      "\n",
      "    accuracy                           0.57     54217\n",
      "   macro avg       0.50      0.41      0.43     54217\n",
      "weighted avg       0.54      0.57      0.54     54217\n",
      "\n"
     ]
    },
    {
     "data": {
      "image/png": "[encoded data removed]",
      "text/plain": [
       "<Figure size 720x504 with 2 Axes>"
      ]
     },
     "metadata": {
      "needs_background": "light"
     },
     "output_type": "display_data"
    }
   ],
   "source": [
    "from sklearn.model_selection import train_test_split\n",
    "from sklearn.ensemble import RandomForestClassifier\n",
    "from sklearn.metrics import classification_report, confusion_matrix\n",
    "\n",
    "# Preparar las características (X) y la variable objetivo (y)\n",
    "features = [\"questions_tags_interaction\",\n",
    "\"category_popularity\",\n",
    "\"log_price\",\n",
    "\"price_relative_to_category_avg\",\n",
    "\"price_quantity_interaction\",\n",
    "\"publication_age\",\n",
    "\"price_positive_rating\",\n",
    "\"log_total_questions\"]\n",
    "\n",
    "X = df_cleaned[features]\n",
    "y = df_cleaned['sold_quantity']\n",
    "\n",
    "# Dividir los datos en conjuntos de entrenamiento y prueba\n",
    "X_train, X_test, y_train, y_test = train_test_split(X, y, test_size=0.2, random_state=42)\n",
    "\n",
    "# Entrenar un modelo de Random Forest para clasificación multiclase\n",
    "rf_classifier = RandomForestClassifier(random_state=42, class_weight='balanced')\n",
    "rf_classifier.fit(X_train, y_train)\n",
    "\n",
    "# Hacer predicciones en el conjunto de prueba\n",
    "y_pred = rf_classifier.predict(X_test)\n",
    "\n",
    "# Evaluar el rendimiento del modelo\n",
    "classification_report_str = classification_report(y_test, y_pred)\n",
    "conf_matrix = confusion_matrix(y_test, y_pred)\n",
    "\n",
    "print(\"Classification Report:\")\n",
    "print(classification_report_str)\n",
    "\n",
    "# Plot the confusion matrix using seaborn\n",
    "plt.figure(figsize=(10, 7))\n",
    "sns.heatmap(conf_matrix, annot=True, fmt='d', cmap='Blues', xticklabels=np.unique(y_test), yticklabels=np.unique(y_test))\n",
    "plt.xlabel('Predicted Class')\n",
    "plt.ylabel('True Class')\n",
    "plt.title('Confusion Matrix - Grouped Classes')\n",
    "plt.show()"
   ]
  },
  {
   "cell_type": "markdown",
   "id": "b73181f9",
   "metadata": {},
   "source": [
    "Se ve que hay una confusión entre clases. Por ejemplo en la clase 2 se confunde con 1 o 5, y clase 3 con 2 y 5.\n",
    "El modelo clasifica correctamente la clase 5, lo cual es entendible dado que es la clase mas frecuente\n",
    "Para la clase 5000 solo con 16 observaciones en el set de pruebas, el modelo clasifica correctamente 8. Esto es predecible dado que es la clase de menor frecuencia."
   ]
  },
  {
   "cell_type": "markdown",
   "id": "e5410e7e",
   "metadata": {},
   "source": [
    "Dado lo anterior se propone una agrupación de las clases, buscando simplificar el modelo y se espera mejore el desempeño del modelo \n",
    "\n",
    "La propuesta de agrupación es: \n",
    "- Grupo 1: Ventas_bajas (0-5), combinar las clases 0, 1, 2, 3, 4 y 5 y como esto representan los valores de ventas bajos y son frecuentemente confundidos por el modelo \n",
    "- Grupo 2: Ventas_medias (25-100) combinar las clases 25, 50 y 100 representando los volumenes medios de ventas.\n",
    "- Grupo 3: Ventas altas (150-500) combinar las clases 150, 200, 250 y 500 representando los volumenes de ventas altas.\n",
    "- Grupo 4: Ventas_muy_altas (5000) mantener la clase 5000 separada, dado que representa valores atipicos."
   ]
  },
  {
   "cell_type": "code",
   "execution_count": 20,
   "id": "1e61eb49",
   "metadata": {},
   "outputs": [
    {
     "name": "stdout",
     "output_type": "stream",
     "text": [
      "                 precision    recall  f1-score   support\n",
      "\n",
      "     high_sales       0.79      0.68      0.73      3524\n",
      "      low_sales       0.92      0.95      0.94     39253\n",
      "   medium_sales       0.72      0.69      0.70     11424\n",
      "very_high_sales       0.80      0.50      0.62        16\n",
      "\n",
      "       accuracy                           0.88     54217\n",
      "      macro avg       0.81      0.70      0.75     54217\n",
      "   weighted avg       0.87      0.88      0.87     54217\n",
      "\n"
     ]
    },
    {
     "data": {
      "image/png": "[encoded data removed]",
      "text/plain": [
       "<Figure size 720x504 with 2 Axes>"
      ]
     },
     "metadata": {
      "needs_background": "light"
     },
     "output_type": "display_data"
    }
   ],
   "source": [
    "# Define the class grouping function\n",
    "def group_classes(sold_quantity):\n",
    "    if sold_quantity in [0, 1, 2, 3, 4, 5]:\n",
    "        return 'low_sales'\n",
    "    elif sold_quantity in [25, 50, 100]:\n",
    "        return 'medium_sales'\n",
    "    elif sold_quantity in [150, 200, 250, 500]:\n",
    "        return 'high_sales'\n",
    "    elif sold_quantity == 5000:\n",
    "        return 'very_high_sales'\n",
    "\n",
    "# Apply the grouping to the target variable\n",
    "df_cleaned['sold_quantity_grouped'] = df_cleaned['sold_quantity'].apply(group_classes)\n",
    "\n",
    "# Prepare the features (X) and the new target variable (y)\n",
    "X = df_cleaned[features]\n",
    "y = df_cleaned['sold_quantity_grouped']\n",
    "\n",
    "# Divide the data into training and testing sets\n",
    "X_train, X_test, y_train, y_test = train_test_split(X, y, test_size=0.2, random_state=42)\n",
    "\n",
    "# Train a new Random Forest model with the grouped classes\n",
    "rf_classifier_grouped = RandomForestClassifier(random_state=42, class_weight='balanced')\n",
    "rf_classifier_grouped.fit(X_train, y_train)\n",
    "\n",
    "# Make predictions on the test set\n",
    "y_pred_grouped = rf_classifier_grouped.predict(X_test)\n",
    "\n",
    "# Evaluate the performance of the new model\n",
    "classification_report_grouped = classification_report(y_test, y_pred_grouped)\n",
    "conf_matrix_grouped = confusion_matrix(y_test, y_pred_grouped)\n",
    "\n",
    "print(classification_report_grouped)\n",
    "\n",
    "# Plot the confusion matrix using seaborn\n",
    "plt.figure(figsize=(10, 7))\n",
    "sns.heatmap(conf_matrix_grouped, annot=True, fmt='d', cmap='Blues', xticklabels=np.unique(y_test), yticklabels=np.unique(y_test))\n",
    "plt.xlabel('Predicted Class')\n",
    "plt.ylabel('True Class')\n",
    "plt.title('Confusion Matrix - Grouped Classes')\n",
    "plt.show()"
   ]
  },
  {
   "cell_type": "markdown",
   "id": "ffe611db",
   "metadata": {},
   "source": [
    "### Probar otro modelo como xgboost"
   ]
  },
  {
   "cell_type": "code",
   "execution_count": 23,
   "id": "7f430c2c",
   "metadata": {},
   "outputs": [
    {
     "name": "stdout",
     "output_type": "stream",
     "text": [
      "[01:07:02] WARNING: /Users/travis/build/dmlc/xgboost/src/learner.cc:1061: Starting in XGBoost 1.3.0, the default evaluation metric used with the objective 'multi:softprob' was changed from 'merror' to 'mlogloss'. Explicitly set eval_metric if you'd like to restore the old behavior.\n",
      "Reporte de Clasificación - XGBoost con Clases Agrupadas\n",
      "                 precision    recall  f1-score   support\n",
      "\n",
      "     high_sales       0.77      0.64      0.70      3524\n",
      "      low_sales       0.92      0.94      0.93     39253\n",
      "   medium_sales       0.70      0.68      0.69     11424\n",
      "very_high_sales       0.80      0.50      0.62        16\n",
      "\n",
      "       accuracy                           0.87     54217\n",
      "      macro avg       0.80      0.69      0.74     54217\n",
      "   weighted avg       0.87      0.87      0.87     54217\n",
      "\n"
     ]
    },
    {
     "data": {
      "image/png": "[encoded data removed]",
      "text/plain": [
       "<Figure size 720x504 with 2 Axes>"
      ]
     },
     "metadata": {
      "needs_background": "light"
     },
     "output_type": "display_data"
    }
   ],
   "source": [
    "import xgboost as xgb\n",
    "from sklearn.metrics import classification_report, confusion_matrix\n",
    "import matplotlib.pyplot as plt\n",
    "import seaborn as sns\n",
    "\n",
    "# Configurar el modelo XGBoost con parámetros básicos\n",
    "xgb_clf_grouped = xgb.XGBClassifier(objective='multi:softprob', random_state=42)\n",
    "\n",
    "# Entrenar el modelo XGBoost con las clases agrupadas\n",
    "xgb_clf_grouped.fit(X_train, y_train)\n",
    "\n",
    "# Hacer predicciones en el conjunto de prueba\n",
    "y_pred_grouped_xgb = xgb_clf_grouped.predict(X_test)\n",
    "\n",
    "# Evaluar el rendimiento del modelo XGBoost con clases agrupadas\n",
    "classification_report_grouped_xgb = classification_report(y_test, y_pred_grouped_xgb)\n",
    "conf_matrix_grouped_xgb = confusion_matrix(y_test, y_pred_grouped_xgb)\n",
    "\n",
    "print(\"Reporte de Clasificación - XGBoost con Clases Agrupadas\")\n",
    "print(classification_report_grouped_xgb)\n",
    "\n",
    "# Graficar la matriz de confusión usando seaborn\n",
    "plt.figure(figsize=(10, 7))\n",
    "sns.heatmap(conf_matrix_grouped_xgb, annot=True, fmt='d', cmap='Blues')\n",
    "plt.xlabel('Clase Predicha')\n",
    "plt.ylabel('Clase Verdadera')\n",
    "plt.title('Matriz de Confusión - XGBoost con Clases Agrupadas')\n",
    "plt.show()"
   ]
  },
  {
   "cell_type": "markdown",
   "id": "8f0de8a7",
   "metadata": {},
   "source": [
    "Tomando en cuenta que el modelo de Random Forest se desempeña mejor que el de Xgboost, nos quedamos con ese por el momento, destacando lo siguiente:\n",
    "    \n",
    "   Interpretación de los Resultados:\n",
    "- Exactitud General (88%): El modelo ha alcanzado una alta exactitud general, lo que significa que el 88% de las predicciones coinciden con las etiquetas reales en el conjunto de prueba.\n",
    "\n",
    "    Desempeño por Clase:\n",
    "- Bajas Ventas (0-5):Precisión: 0.92, Recall: 0.95, F1-Score: 0.94\n",
    "El modelo tiene un desempeño excepcional en esta clase, lo cual es esperable dado que contiene la mayoría de las observaciones.\n",
    "- Ventas Medias (25-100):Precisión: 0.72, Recall: 0.69, F1-Score: 0.70\n",
    "El desempeño es decente, pero menor que en las bajas ventas. Un recall de 0.69 indica que el modelo no detecta aproximadamente el 31% de las instancias de ventas medias.\n",
    "- Altas Ventas (150-500): Precisión: 0.79, Recall: 0.68, F1-Score: 0.73\n",
    "El desempeño es ligeramente mejor que en ventas medias, pero el recall indica que el modelo no detecta aproximadamente el 32% de las instancias.\n",
    "- Ventas Muy Altas (5000):Precisión: 0.80, Recall: 0.50, F1-Score: 0.62\n",
    "Esta clase es muy pequeña, con solo 16 instancias. El modelo tiene un desempeño razonable, pero solo identifica correctamente la mitad de estas instancias.\n",
    "\n",
    "    Matriz de Confusión:\n",
    "La matriz de confusión muestra dónde el modelo está cometiendo errores:\n",
    "Altas Ventas Clasificadas como Bajas Ventas: Algunas instancias de altas ventas (150-500) se están clasificando incorrectamente como bajas ventas (0-5), lo cual podría ser problemático dependiendo del caso de uso.\n",
    "Ventas Medias Confundidas con Bajas Ventas: También hay instancias donde las ventas medias se clasifican incorrectamente como bajas ventas, aunque esto es menos severo.\n",
    "\n",
    "    Fortalezas:\n",
    "- Alta Exactitud: El modelo es altamente preciso en general, con un desempeño particularmente fuerte en la predicción de bajas ventas, que es la clase más frecuente.\n",
    "- Desempeño Balanceado: El modelo en general tiene un buen desempeño en los diferentes grupos, con una precisión y recall razonables para cada uno.\n",
    "\n",
    "    Limitaciones:\n",
    "- Impacto de la Agrupación: La agrupación de clases en bajas ventas, ventas medias, altas ventas, y ventas muy altas se realizó para simplificar el problema y mejorar el desempeño del modelo. Sin embargo, esto significa que pueden ocurrir errores dentro de estos grupos.\n",
    "- Posibles Clasificaciones Erróneas: Una predicción de altas ventas (150-500) podría incluir instancias donde las ventas reales fueron más cercanas a 150 o 500, lo cual podría llevar a decisiones comerciales diferentes. El impacto de este posible error debe considerarse en la toma de decisiones.\n",
    "- Casos Especiales: El modelo tiene un desempeño un poco más limitado con la clase rara ventas muy altas, lo cual debería manejarse con cuidado. Dado el pequeño número de instancias, estas predicciones podrían requerir validación adicional.\n",
    "\n",
    "    Cómo Manejar los Errores:\n",
    "- Umbrales de Confianza: Sugiere la posibilidad de utilizar intervalos de confianza o umbrales de probabilidad para determinar qué tan seguro está el modelo en sus predicciones. Por ejemplo, si una predicción para altas ventas tiene baja confianza, podría marcarse para una revisión adicional.\n",
    "- Reglas de Negocio: Implementa lógica adicional de negocio para manejar las predicciones que caen en categorías con rangos amplios, asegurando que las decisiones basadas en estas predicciones sean robustas frente a posibles variaciones dentro del grupo.\n",
    "- Intervención Humana: Para decisiones críticas, especialmente aquellas que involucren predicciones en las categorías altas ventas y ventas muy altas, considera que un humano revise las predicciones del modelo antes de tomar decisiones finales.\n",
    "\n",
    "    Conclusión:\n",
    "En general, el modelo está funcionando bien, pero se debe estar conscientes del posible impacto de la agrupación de clases en las predicciones. Estableciendo reglas de negocio apropiadas y monitoreando el desempeño del modelo, se puede mitigar el impacto de cualquier error, especialmente aquellos que ocurren al predecir categorías amplias como altas ventas. Este enfoque ayudará a garantizar que las predicciones del modelo respalden una toma de decisiones efectiva e informada."
   ]
  },
  {
   "cell_type": "markdown",
   "id": "4e3d0631",
   "metadata": {},
   "source": [
    "### Next steps"
   ]
  },
  {
   "cell_type": "markdown",
   "id": "34d8ce86",
   "metadata": {},
   "source": [
    "\n",
    "- Hacer fine tuning para los modelos y ver cual va mejor.\n",
    "- Probar con otro tipo de interacciones o caracteristicas polinomiales para capturar relaciones mas complejas no lineales.\n",
    "- Clustering: Agrupar observaciones similares, permitiendo al modelo hacer mejores predicciones para cada grupo.\n",
    "- Si se tuvieran datos temporales estaría genial integrarlos y ver los efectos, dada la estacionalidad, temporada o tendencia de ciertos grupos de productos.\n",
    "- Probar haciendo el modelo con los valores reales de sold_quantity usando regresores y comparar con el modelo de clasificación."
   ]
  },
  {
   "cell_type": "code",
   "execution_count": null,
   "id": "c7c14902",
   "metadata": {},
   "outputs": [],
   "source": []
  }
 ],
 "metadata": {
  "kernelspec": {
   "display_name": "Python 3",
   "language": "python",
   "name": "python3"
  },
  "language_info": {
   "codemirror_mode": {
    "name": "ipython",
    "version": 3
   },
   "file_extension": ".py",
   "mimetype": "text/x-python",
   "name": "python",
   "nbconvert_exporter": "python",
   "pygments_lexer": "ipython3",
   "version": "3.8.5"
  }
 },
 "nbformat": 4,
 "nbformat_minor": 5
}
